{
  "nbformat": 4,
  "nbformat_minor": 0,
  "metadata": {
    "colab": {
      "provenance": [],
      "authorship_tag": "ABX9TyNKcdjiPC309kxji4sQsFNY",
      "include_colab_link": true
    },
    "kernelspec": {
      "name": "python3",
      "display_name": "Python 3"
    },
    "language_info": {
      "name": "python"
    }
  },
  "cells": [
    {
      "cell_type": "markdown",
      "metadata": {
        "id": "view-in-github",
        "colab_type": "text"
      },
      "source": [
        "<a href=\"https://colab.research.google.com/github/sambhuyadav/Machine-Learning-Resources/blob/main/NormalDistributionAssignmentQuestion.ipynb\" target=\"_parent\"><img src=\"https://colab.research.google.com/assets/colab-badge.svg\" alt=\"Open In Colab\"/></a>"
      ]
    },
    {
      "cell_type": "code",
      "execution_count": 5,
      "metadata": {
        "id": "Po3UW-r-4QJK"
      },
      "outputs": [],
      "source": [
        "import numpy as np\n",
        "from scipy import stats"
      ]
    },
    {
      "cell_type": "code",
      "source": [
        "#Calculating the z-score\n",
        "mu = 500\n",
        "sigma = 10\n",
        "x = 490\n",
        "\n",
        "z = (x-mu)/sigma\n",
        "1-(stats.norm.cdf(1.5)-stats.norm.cdf(-1.0))\n"
      ],
      "metadata": {
        "colab": {
          "base_uri": "https://localhost:8080/"
        },
        "id": "Fkn0vr17Ub8O",
        "outputId": "ba86af17-6095-44ac-d7f6-4dbd193c10ca"
      },
      "execution_count": 26,
      "outputs": [
        {
          "output_type": "execute_result",
          "data": {
            "text/plain": [
              "0.22546245520031516"
            ]
          },
          "metadata": {},
          "execution_count": 26
        }
      ]
    },
    {
      "cell_type": "code",
      "source": [
        "#Calculating the cdf\n",
        "mu = 60\n",
        "sigma = 10\n",
        "x = 65\n",
        "\n",
        "z = (x-mu)/sigma\n",
        "z\n",
        "1-stats.norm.cdf(z)"
      ],
      "metadata": {
        "colab": {
          "base_uri": "https://localhost:8080/"
        },
        "id": "NeYQlemrWBm6",
        "outputId": "9810dea4-2e6c-4f9e-9f6f-3de73b88bfce"
      },
      "execution_count": 11,
      "outputs": [
        {
          "output_type": "execute_result",
          "data": {
            "text/plain": [
              "0.3085375387259869"
            ]
          },
          "metadata": {},
          "execution_count": 11
        }
      ]
    },
    {
      "cell_type": "code",
      "source": [
        "#Question no.5:\n",
        "#Calculating the ppf\n",
        "# mu = 50\n",
        "# sigma = 2\n",
        "# z = 0.01\n",
        "\n",
        "x = stats.norm.cdf(0.95, 756, 35)\n",
        "x\n"
      ],
      "metadata": {
        "colab": {
          "base_uri": "https://localhost:8080/"
        },
        "id": "-ZvGekIb8WgL",
        "outputId": "75f03b00-1c5d-415f-e1d8-2d3cb2c96262"
      },
      "execution_count": 24,
      "outputs": [
        {
          "output_type": "execute_result",
          "data": {
            "text/plain": [
              "1.6155414436046923e-103"
            ]
          },
          "metadata": {},
          "execution_count": 24
        }
      ]
    },
    {
      "cell_type": "markdown",
      "source": [
        "## Centeral Limit Theorem\n"
      ],
      "metadata": {
        "id": "_iA4ie5M5fQ3"
      }
    },
    {
      "cell_type": "code",
      "source": [
        "#Questiong no.3\n",
        "\n",
        "mu = 90\n",
        "simga = 15\n",
        "\n",
        "n = 35\n",
        "SE = simga / np.sqrt(35)\n",
        "x1 = 85\n",
        "x2 = 92\n",
        "\n",
        "z1 = (x1-mu)/SE\n",
        "z2 = (x2-mu)/SE\n",
        "(stats.norm.cdf(z2)-stats.norm.cdf(z1))"
      ],
      "metadata": {
        "colab": {
          "base_uri": "https://localhost:8080/"
        },
        "id": "jrgHUC66eNZt",
        "outputId": "eaa1ba61-b0ee-4315-ddff-a9cc3b24dfcb"
      },
      "execution_count": 17,
      "outputs": [
        {
          "output_type": "execute_result",
          "data": {
            "text/plain": [
              "0.7605853690971865"
            ]
          },
          "metadata": {},
          "execution_count": 17
        }
      ]
    },
    {
      "cell_type": "code",
      "source": [
        "#Question no. 4\n",
        "mu = 5\n",
        "sigma = 0.5\n",
        "n = 5\n",
        "SE = sigma / np.sqrt(n)\n",
        "x = 5.5\n",
        "z = (x-mu)/SE\n",
        "stats.norm.cdf(z)*100"
      ],
      "metadata": {
        "colab": {
          "base_uri": "https://localhost:8080/"
        },
        "id": "UXqMoNxj1cnT",
        "outputId": "9bf3d328-b38c-40c2-b29f-7ae42302dac6"
      },
      "execution_count": 21,
      "outputs": [
        {
          "output_type": "execute_result",
          "data": {
            "text/plain": [
              "98.7326340661266"
            ]
          },
          "metadata": {},
          "execution_count": 21
        }
      ]
    },
    {
      "cell_type": "code",
      "source": [
        "#Question no.5\n",
        "mu = 165\n",
        "sigma = 8\n",
        "n = 100\n",
        "SE = sigma/np.sqrt(n)\n",
        "ll = mu - 1.645 * (SE)\n",
        "hl = mu + 1.645 * (SE)\n",
        "print(ll, hl)"
      ],
      "metadata": {
        "colab": {
          "base_uri": "https://localhost:8080/"
        },
        "id": "WXB8BKwZ6BLN",
        "outputId": "1d86dbb4-5537-4b66-8399-ab1c036a7c15"
      },
      "execution_count": 26,
      "outputs": [
        {
          "output_type": "stream",
          "name": "stdout",
          "text": [
            "163.684 166.316\n"
          ]
        }
      ]
    },
    {
      "cell_type": "code",
      "source": [
        "#Question no.6\n",
        "mu = 1000\n",
        "sigma = 188\n",
        "n = 35\n",
        "SE = sigma/np.sqrt(n)\n",
        "stats.norm.cdf(947.47,mu,SE)*100"
      ],
      "metadata": {
        "colab": {
          "base_uri": "https://localhost:8080/"
        },
        "id": "muT59uGN-rp8",
        "outputId": "87c722cb-5261-4885-f107-d29a0b8eda89"
      },
      "execution_count": 29,
      "outputs": [
        {
          "output_type": "execute_result",
          "data": {
            "text/plain": [
              "4.916127980822614"
            ]
          },
          "metadata": {},
          "execution_count": 29
        }
      ]
    },
    {
      "cell_type": "code",
      "source": [
        "mu = 165\n",
        "sigma = 8\n",
        "n = 100\n",
        "SE = sigma/np.sqrt(n)\n",
        "ll = mu - 1.645 * (SE)\n",
        "hl = mu + 1.645 * (SE)\n",
        "print(ll, hl)"
      ],
      "metadata": {
        "id": "mgwCR2_nBZ9O"
      },
      "execution_count": null,
      "outputs": []
    }
  ]
}