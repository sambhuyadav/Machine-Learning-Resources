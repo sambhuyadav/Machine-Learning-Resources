{
  "nbformat": 4,
  "nbformat_minor": 0,
  "metadata": {
    "colab": {
      "provenance": [],
      "collapsed_sections": [
        "x1gdX3Dn1Qrm",
        "_neXYfEzG1Tv"
      ],
      "include_colab_link": true
    },
    "kernelspec": {
      "name": "python3",
      "display_name": "Python 3"
    },
    "language_info": {
      "name": "python"
    }
  },
  "cells": [
    {
      "cell_type": "markdown",
      "metadata": {
        "id": "view-in-github",
        "colab_type": "text"
      },
      "source": [
        "<a href=\"https://colab.research.google.com/github/sambhuyadav/Machine-Learning-Resources/blob/main/Two_Sample_Test.ipynb\" target=\"_parent\"><img src=\"https://colab.research.google.com/assets/colab-badge.svg\" alt=\"Open In Colab\"/></a>"
      ]
    },
    {
      "cell_type": "code",
      "execution_count": null,
      "metadata": {
        "id": "4t56vEDZKZJC"
      },
      "outputs": [],
      "source": [
        "#importing required libraries\n",
        "\n",
        "import numpy as np\n",
        "import pandas as pd\n",
        "\n",
        "import matplotlib.pyplot as plt\n",
        "import seaborn as sns\n",
        "\n",
        "from scipy import stats\n",
        "from statsmodels.stats.proportion import proportions_ztest\n",
        "\n"
      ]
    },
    {
      "cell_type": "markdown",
      "source": [
        "#-------------------------   Part 1: \"Two Sample T Test (Independent Samples)\"  -----------------------------"
      ],
      "metadata": {
        "id": "nhPM4dNEQgRs"
      }
    },
    {
      "cell_type": "markdown",
      "source": [
        "#Height Population Data"
      ],
      "metadata": {
        "id": "vxvv1eJDKmAz"
      }
    },
    {
      "cell_type": "code",
      "source": [
        "#Load weight-height data\n",
        "\n",
        "!gdown 12zss9SplRh1xr38o4WHOFJ0WRlpAJbrG\n",
        "\n",
        "df = pd.read_csv(\"weight-height.csv\")\n",
        "\n",
        "print(\"\\n\\n\")\n",
        "df"
      ],
      "metadata": {
        "colab": {
          "base_uri": "https://localhost:8080/",
          "height": 545
        },
        "id": "ckG3p9fPKr8x",
        "outputId": "2c43dfc6-ad4f-470a-a55d-1ff84b235808"
      },
      "execution_count": null,
      "outputs": [
        {
          "output_type": "stream",
          "name": "stdout",
          "text": [
            "Downloading...\n",
            "From: https://drive.google.com/uc?id=12zss9SplRh1xr38o4WHOFJ0WRlpAJbrG\n",
            "To: /content/weight-height.csv\n",
            "\r  0% 0.00/180k [00:00<?, ?B/s]\r100% 180k/180k [00:00<00:00, 56.1MB/s]\n",
            "\n",
            "\n",
            "\n"
          ]
        },
        {
          "output_type": "execute_result",
          "data": {
            "text/plain": [
              "      Gender  Height  Weight\n",
              "0       Male    73.8   241.9\n",
              "1       Male    68.8   162.3\n",
              "2       Male    74.1   212.7\n",
              "3       Male    71.7   220.0\n",
              "4       Male    69.9   206.3\n",
              "...      ...     ...     ...\n",
              "9995  Female    66.2   136.8\n",
              "9996  Female    67.1   170.9\n",
              "9997  Female    63.9   128.5\n",
              "9998  Female    69.0   163.9\n",
              "9999  Female    61.9   113.6\n",
              "\n",
              "[10000 rows x 3 columns]"
            ],
            "text/html": [
              "\n",
              "  <div id=\"df-500e70e0-adb1-4a0f-ae8e-458e8b3f54f7\" class=\"colab-df-container\">\n",
              "    <div>\n",
              "<style scoped>\n",
              "    .dataframe tbody tr th:only-of-type {\n",
              "        vertical-align: middle;\n",
              "    }\n",
              "\n",
              "    .dataframe tbody tr th {\n",
              "        vertical-align: top;\n",
              "    }\n",
              "\n",
              "    .dataframe thead th {\n",
              "        text-align: right;\n",
              "    }\n",
              "</style>\n",
              "<table border=\"1\" class=\"dataframe\">\n",
              "  <thead>\n",
              "    <tr style=\"text-align: right;\">\n",
              "      <th></th>\n",
              "      <th>Gender</th>\n",
              "      <th>Height</th>\n",
              "      <th>Weight</th>\n",
              "    </tr>\n",
              "  </thead>\n",
              "  <tbody>\n",
              "    <tr>\n",
              "      <th>0</th>\n",
              "      <td>Male</td>\n",
              "      <td>73.8</td>\n",
              "      <td>241.9</td>\n",
              "    </tr>\n",
              "    <tr>\n",
              "      <th>1</th>\n",
              "      <td>Male</td>\n",
              "      <td>68.8</td>\n",
              "      <td>162.3</td>\n",
              "    </tr>\n",
              "    <tr>\n",
              "      <th>2</th>\n",
              "      <td>Male</td>\n",
              "      <td>74.1</td>\n",
              "      <td>212.7</td>\n",
              "    </tr>\n",
              "    <tr>\n",
              "      <th>3</th>\n",
              "      <td>Male</td>\n",
              "      <td>71.7</td>\n",
              "      <td>220.0</td>\n",
              "    </tr>\n",
              "    <tr>\n",
              "      <th>4</th>\n",
              "      <td>Male</td>\n",
              "      <td>69.9</td>\n",
              "      <td>206.3</td>\n",
              "    </tr>\n",
              "    <tr>\n",
              "      <th>...</th>\n",
              "      <td>...</td>\n",
              "      <td>...</td>\n",
              "      <td>...</td>\n",
              "    </tr>\n",
              "    <tr>\n",
              "      <th>9995</th>\n",
              "      <td>Female</td>\n",
              "      <td>66.2</td>\n",
              "      <td>136.8</td>\n",
              "    </tr>\n",
              "    <tr>\n",
              "      <th>9996</th>\n",
              "      <td>Female</td>\n",
              "      <td>67.1</td>\n",
              "      <td>170.9</td>\n",
              "    </tr>\n",
              "    <tr>\n",
              "      <th>9997</th>\n",
              "      <td>Female</td>\n",
              "      <td>63.9</td>\n",
              "      <td>128.5</td>\n",
              "    </tr>\n",
              "    <tr>\n",
              "      <th>9998</th>\n",
              "      <td>Female</td>\n",
              "      <td>69.0</td>\n",
              "      <td>163.9</td>\n",
              "    </tr>\n",
              "    <tr>\n",
              "      <th>9999</th>\n",
              "      <td>Female</td>\n",
              "      <td>61.9</td>\n",
              "      <td>113.6</td>\n",
              "    </tr>\n",
              "  </tbody>\n",
              "</table>\n",
              "<p>10000 rows × 3 columns</p>\n",
              "</div>\n",
              "    <div class=\"colab-df-buttons\">\n",
              "\n",
              "  <div class=\"colab-df-container\">\n",
              "    <button class=\"colab-df-convert\" onclick=\"convertToInteractive('df-500e70e0-adb1-4a0f-ae8e-458e8b3f54f7')\"\n",
              "            title=\"Convert this dataframe to an interactive table.\"\n",
              "            style=\"display:none;\">\n",
              "\n",
              "  <svg xmlns=\"http://www.w3.org/2000/svg\" height=\"24px\" viewBox=\"0 -960 960 960\">\n",
              "    <path d=\"M120-120v-720h720v720H120Zm60-500h600v-160H180v160Zm220 220h160v-160H400v160Zm0 220h160v-160H400v160ZM180-400h160v-160H180v160Zm440 0h160v-160H620v160ZM180-180h160v-160H180v160Zm440 0h160v-160H620v160Z\"/>\n",
              "  </svg>\n",
              "    </button>\n",
              "\n",
              "  <style>\n",
              "    .colab-df-container {\n",
              "      display:flex;\n",
              "      gap: 12px;\n",
              "    }\n",
              "\n",
              "    .colab-df-convert {\n",
              "      background-color: #E8F0FE;\n",
              "      border: none;\n",
              "      border-radius: 50%;\n",
              "      cursor: pointer;\n",
              "      display: none;\n",
              "      fill: #1967D2;\n",
              "      height: 32px;\n",
              "      padding: 0 0 0 0;\n",
              "      width: 32px;\n",
              "    }\n",
              "\n",
              "    .colab-df-convert:hover {\n",
              "      background-color: #E2EBFA;\n",
              "      box-shadow: 0px 1px 2px rgba(60, 64, 67, 0.3), 0px 1px 3px 1px rgba(60, 64, 67, 0.15);\n",
              "      fill: #174EA6;\n",
              "    }\n",
              "\n",
              "    .colab-df-buttons div {\n",
              "      margin-bottom: 4px;\n",
              "    }\n",
              "\n",
              "    [theme=dark] .colab-df-convert {\n",
              "      background-color: #3B4455;\n",
              "      fill: #D2E3FC;\n",
              "    }\n",
              "\n",
              "    [theme=dark] .colab-df-convert:hover {\n",
              "      background-color: #434B5C;\n",
              "      box-shadow: 0px 1px 3px 1px rgba(0, 0, 0, 0.15);\n",
              "      filter: drop-shadow(0px 1px 2px rgba(0, 0, 0, 0.3));\n",
              "      fill: #FFFFFF;\n",
              "    }\n",
              "  </style>\n",
              "\n",
              "    <script>\n",
              "      const buttonEl =\n",
              "        document.querySelector('#df-500e70e0-adb1-4a0f-ae8e-458e8b3f54f7 button.colab-df-convert');\n",
              "      buttonEl.style.display =\n",
              "        google.colab.kernel.accessAllowed ? 'block' : 'none';\n",
              "\n",
              "      async function convertToInteractive(key) {\n",
              "        const element = document.querySelector('#df-500e70e0-adb1-4a0f-ae8e-458e8b3f54f7');\n",
              "        const dataTable =\n",
              "          await google.colab.kernel.invokeFunction('convertToInteractive',\n",
              "                                                    [key], {});\n",
              "        if (!dataTable) return;\n",
              "\n",
              "        const docLinkHtml = 'Like what you see? Visit the ' +\n",
              "          '<a target=\"_blank\" href=https://colab.research.google.com/notebooks/data_table.ipynb>data table notebook</a>'\n",
              "          + ' to learn more about interactive tables.';\n",
              "        element.innerHTML = '';\n",
              "        dataTable['output_type'] = 'display_data';\n",
              "        await google.colab.output.renderOutput(dataTable, element);\n",
              "        const docLink = document.createElement('div');\n",
              "        docLink.innerHTML = docLinkHtml;\n",
              "        element.appendChild(docLink);\n",
              "      }\n",
              "    </script>\n",
              "  </div>\n",
              "\n",
              "\n",
              "<div id=\"df-99f378bf-dfa4-4b2b-8c7b-112a7d8cf0c9\">\n",
              "  <button class=\"colab-df-quickchart\" onclick=\"quickchart('df-99f378bf-dfa4-4b2b-8c7b-112a7d8cf0c9')\"\n",
              "            title=\"Suggest charts\"\n",
              "            style=\"display:none;\">\n",
              "\n",
              "<svg xmlns=\"http://www.w3.org/2000/svg\" height=\"24px\"viewBox=\"0 0 24 24\"\n",
              "     width=\"24px\">\n",
              "    <g>\n",
              "        <path d=\"M19 3H5c-1.1 0-2 .9-2 2v14c0 1.1.9 2 2 2h14c1.1 0 2-.9 2-2V5c0-1.1-.9-2-2-2zM9 17H7v-7h2v7zm4 0h-2V7h2v10zm4 0h-2v-4h2v4z\"/>\n",
              "    </g>\n",
              "</svg>\n",
              "  </button>\n",
              "\n",
              "<style>\n",
              "  .colab-df-quickchart {\n",
              "      --bg-color: #E8F0FE;\n",
              "      --fill-color: #1967D2;\n",
              "      --hover-bg-color: #E2EBFA;\n",
              "      --hover-fill-color: #174EA6;\n",
              "      --disabled-fill-color: #AAA;\n",
              "      --disabled-bg-color: #DDD;\n",
              "  }\n",
              "\n",
              "  [theme=dark] .colab-df-quickchart {\n",
              "      --bg-color: #3B4455;\n",
              "      --fill-color: #D2E3FC;\n",
              "      --hover-bg-color: #434B5C;\n",
              "      --hover-fill-color: #FFFFFF;\n",
              "      --disabled-bg-color: #3B4455;\n",
              "      --disabled-fill-color: #666;\n",
              "  }\n",
              "\n",
              "  .colab-df-quickchart {\n",
              "    background-color: var(--bg-color);\n",
              "    border: none;\n",
              "    border-radius: 50%;\n",
              "    cursor: pointer;\n",
              "    display: none;\n",
              "    fill: var(--fill-color);\n",
              "    height: 32px;\n",
              "    padding: 0;\n",
              "    width: 32px;\n",
              "  }\n",
              "\n",
              "  .colab-df-quickchart:hover {\n",
              "    background-color: var(--hover-bg-color);\n",
              "    box-shadow: 0 1px 2px rgba(60, 64, 67, 0.3), 0 1px 3px 1px rgba(60, 64, 67, 0.15);\n",
              "    fill: var(--button-hover-fill-color);\n",
              "  }\n",
              "\n",
              "  .colab-df-quickchart-complete:disabled,\n",
              "  .colab-df-quickchart-complete:disabled:hover {\n",
              "    background-color: var(--disabled-bg-color);\n",
              "    fill: var(--disabled-fill-color);\n",
              "    box-shadow: none;\n",
              "  }\n",
              "\n",
              "  .colab-df-spinner {\n",
              "    border: 2px solid var(--fill-color);\n",
              "    border-color: transparent;\n",
              "    border-bottom-color: var(--fill-color);\n",
              "    animation:\n",
              "      spin 1s steps(1) infinite;\n",
              "  }\n",
              "\n",
              "  @keyframes spin {\n",
              "    0% {\n",
              "      border-color: transparent;\n",
              "      border-bottom-color: var(--fill-color);\n",
              "      border-left-color: var(--fill-color);\n",
              "    }\n",
              "    20% {\n",
              "      border-color: transparent;\n",
              "      border-left-color: var(--fill-color);\n",
              "      border-top-color: var(--fill-color);\n",
              "    }\n",
              "    30% {\n",
              "      border-color: transparent;\n",
              "      border-left-color: var(--fill-color);\n",
              "      border-top-color: var(--fill-color);\n",
              "      border-right-color: var(--fill-color);\n",
              "    }\n",
              "    40% {\n",
              "      border-color: transparent;\n",
              "      border-right-color: var(--fill-color);\n",
              "      border-top-color: var(--fill-color);\n",
              "    }\n",
              "    60% {\n",
              "      border-color: transparent;\n",
              "      border-right-color: var(--fill-color);\n",
              "    }\n",
              "    80% {\n",
              "      border-color: transparent;\n",
              "      border-right-color: var(--fill-color);\n",
              "      border-bottom-color: var(--fill-color);\n",
              "    }\n",
              "    90% {\n",
              "      border-color: transparent;\n",
              "      border-bottom-color: var(--fill-color);\n",
              "    }\n",
              "  }\n",
              "</style>\n",
              "\n",
              "  <script>\n",
              "    async function quickchart(key) {\n",
              "      const quickchartButtonEl =\n",
              "        document.querySelector('#' + key + ' button');\n",
              "      quickchartButtonEl.disabled = true;  // To prevent multiple clicks.\n",
              "      quickchartButtonEl.classList.add('colab-df-spinner');\n",
              "      try {\n",
              "        const charts = await google.colab.kernel.invokeFunction(\n",
              "            'suggestCharts', [key], {});\n",
              "      } catch (error) {\n",
              "        console.error('Error during call to suggestCharts:', error);\n",
              "      }\n",
              "      quickchartButtonEl.classList.remove('colab-df-spinner');\n",
              "      quickchartButtonEl.classList.add('colab-df-quickchart-complete');\n",
              "    }\n",
              "    (() => {\n",
              "      let quickchartButtonEl =\n",
              "        document.querySelector('#df-99f378bf-dfa4-4b2b-8c7b-112a7d8cf0c9 button');\n",
              "      quickchartButtonEl.style.display =\n",
              "        google.colab.kernel.accessAllowed ? 'block' : 'none';\n",
              "    })();\n",
              "  </script>\n",
              "</div>\n",
              "\n",
              "  <div id=\"id_1b9a3382-3824-4049-a0ef-5aecb558a39a\">\n",
              "    <style>\n",
              "      .colab-df-generate {\n",
              "        background-color: #E8F0FE;\n",
              "        border: none;\n",
              "        border-radius: 50%;\n",
              "        cursor: pointer;\n",
              "        display: none;\n",
              "        fill: #1967D2;\n",
              "        height: 32px;\n",
              "        padding: 0 0 0 0;\n",
              "        width: 32px;\n",
              "      }\n",
              "\n",
              "      .colab-df-generate:hover {\n",
              "        background-color: #E2EBFA;\n",
              "        box-shadow: 0px 1px 2px rgba(60, 64, 67, 0.3), 0px 1px 3px 1px rgba(60, 64, 67, 0.15);\n",
              "        fill: #174EA6;\n",
              "      }\n",
              "\n",
              "      [theme=dark] .colab-df-generate {\n",
              "        background-color: #3B4455;\n",
              "        fill: #D2E3FC;\n",
              "      }\n",
              "\n",
              "      [theme=dark] .colab-df-generate:hover {\n",
              "        background-color: #434B5C;\n",
              "        box-shadow: 0px 1px 3px 1px rgba(0, 0, 0, 0.15);\n",
              "        filter: drop-shadow(0px 1px 2px rgba(0, 0, 0, 0.3));\n",
              "        fill: #FFFFFF;\n",
              "      }\n",
              "    </style>\n",
              "    <button class=\"colab-df-generate\" onclick=\"generateWithVariable('df')\"\n",
              "            title=\"Generate code using this dataframe.\"\n",
              "            style=\"display:none;\">\n",
              "\n",
              "  <svg xmlns=\"http://www.w3.org/2000/svg\" height=\"24px\"viewBox=\"0 0 24 24\"\n",
              "       width=\"24px\">\n",
              "    <path d=\"M7,19H8.4L18.45,9,17,7.55,7,17.6ZM5,21V16.75L18.45,3.32a2,2,0,0,1,2.83,0l1.4,1.43a1.91,1.91,0,0,1,.58,1.4,1.91,1.91,0,0,1-.58,1.4L9.25,21ZM18.45,9,17,7.55Zm-12,3A5.31,5.31,0,0,0,4.9,8.1,5.31,5.31,0,0,0,1,6.5,5.31,5.31,0,0,0,4.9,4.9,5.31,5.31,0,0,0,6.5,1,5.31,5.31,0,0,0,8.1,4.9,5.31,5.31,0,0,0,12,6.5,5.46,5.46,0,0,0,6.5,12Z\"/>\n",
              "  </svg>\n",
              "    </button>\n",
              "    <script>\n",
              "      (() => {\n",
              "      const buttonEl =\n",
              "        document.querySelector('#id_1b9a3382-3824-4049-a0ef-5aecb558a39a button.colab-df-generate');\n",
              "      buttonEl.style.display =\n",
              "        google.colab.kernel.accessAllowed ? 'block' : 'none';\n",
              "\n",
              "      buttonEl.onclick = () => {\n",
              "        google.colab.notebook.generateWithVariable('df');\n",
              "      }\n",
              "      })();\n",
              "    </script>\n",
              "  </div>\n",
              "\n",
              "    </div>\n",
              "  </div>\n"
            ],
            "application/vnd.google.colaboratory.intrinsic+json": {
              "type": "dataframe",
              "variable_name": "df",
              "summary": "{\n  \"name\": \"df\",\n  \"rows\": 10000,\n  \"fields\": [\n    {\n      \"column\": \"Gender\",\n      \"properties\": {\n        \"dtype\": \"category\",\n        \"num_unique_values\": 2,\n        \"samples\": [\n          \"Female\",\n          \"Male\"\n        ],\n        \"semantic_type\": \"\",\n        \"description\": \"\"\n      }\n    },\n    {\n      \"column\": \"Height\",\n      \"properties\": {\n        \"dtype\": \"number\",\n        \"std\": 3.848151150140477,\n        \"min\": 54.3,\n        \"max\": 79.0,\n        \"num_unique_values\": 225,\n        \"samples\": [\n          71.2,\n          56.2\n        ],\n        \"semantic_type\": \"\",\n        \"description\": \"\"\n      }\n    },\n    {\n      \"column\": \"Weight\",\n      \"properties\": {\n        \"dtype\": \"number\",\n        \"std\": 32.108270241320845,\n        \"min\": 64.7,\n        \"max\": 270.0,\n        \"num_unique_values\": 1427,\n        \"samples\": [\n          151.0,\n          146.8\n        ],\n        \"semantic_type\": \"\",\n        \"description\": \"\"\n      }\n    }\n  ]\n}"
            }
          },
          "metadata": {},
          "execution_count": 3
        }
      ]
    },
    {
      "cell_type": "code",
      "source": [
        "#Assigning Random Hats to people in df\n",
        "\n",
        "df['Hat_Colour'] = np.random.choice([\"Red\",\"Blue\"],size=len(df))\n",
        "\n",
        "df.head()"
      ],
      "metadata": {
        "colab": {
          "base_uri": "https://localhost:8080/",
          "height": 206
        },
        "id": "PUSixBiQKuEJ",
        "outputId": "764a9221-4467-4b4b-a28f-415a273c9522"
      },
      "execution_count": null,
      "outputs": [
        {
          "output_type": "execute_result",
          "data": {
            "text/plain": [
              "  Gender  Height  Weight Hat_Colour\n",
              "0   Male    73.8   241.9        Red\n",
              "1   Male    68.8   162.3       Blue\n",
              "2   Male    74.1   212.7       Blue\n",
              "3   Male    71.7   220.0        Red\n",
              "4   Male    69.9   206.3       Blue"
            ],
            "text/html": [
              "\n",
              "  <div id=\"df-0c71ba7f-a4db-4b6e-9244-5d102d7fa47f\" class=\"colab-df-container\">\n",
              "    <div>\n",
              "<style scoped>\n",
              "    .dataframe tbody tr th:only-of-type {\n",
              "        vertical-align: middle;\n",
              "    }\n",
              "\n",
              "    .dataframe tbody tr th {\n",
              "        vertical-align: top;\n",
              "    }\n",
              "\n",
              "    .dataframe thead th {\n",
              "        text-align: right;\n",
              "    }\n",
              "</style>\n",
              "<table border=\"1\" class=\"dataframe\">\n",
              "  <thead>\n",
              "    <tr style=\"text-align: right;\">\n",
              "      <th></th>\n",
              "      <th>Gender</th>\n",
              "      <th>Height</th>\n",
              "      <th>Weight</th>\n",
              "      <th>Hat_Colour</th>\n",
              "    </tr>\n",
              "  </thead>\n",
              "  <tbody>\n",
              "    <tr>\n",
              "      <th>0</th>\n",
              "      <td>Male</td>\n",
              "      <td>73.8</td>\n",
              "      <td>241.9</td>\n",
              "      <td>Red</td>\n",
              "    </tr>\n",
              "    <tr>\n",
              "      <th>1</th>\n",
              "      <td>Male</td>\n",
              "      <td>68.8</td>\n",
              "      <td>162.3</td>\n",
              "      <td>Blue</td>\n",
              "    </tr>\n",
              "    <tr>\n",
              "      <th>2</th>\n",
              "      <td>Male</td>\n",
              "      <td>74.1</td>\n",
              "      <td>212.7</td>\n",
              "      <td>Blue</td>\n",
              "    </tr>\n",
              "    <tr>\n",
              "      <th>3</th>\n",
              "      <td>Male</td>\n",
              "      <td>71.7</td>\n",
              "      <td>220.0</td>\n",
              "      <td>Red</td>\n",
              "    </tr>\n",
              "    <tr>\n",
              "      <th>4</th>\n",
              "      <td>Male</td>\n",
              "      <td>69.9</td>\n",
              "      <td>206.3</td>\n",
              "      <td>Blue</td>\n",
              "    </tr>\n",
              "  </tbody>\n",
              "</table>\n",
              "</div>\n",
              "    <div class=\"colab-df-buttons\">\n",
              "\n",
              "  <div class=\"colab-df-container\">\n",
              "    <button class=\"colab-df-convert\" onclick=\"convertToInteractive('df-0c71ba7f-a4db-4b6e-9244-5d102d7fa47f')\"\n",
              "            title=\"Convert this dataframe to an interactive table.\"\n",
              "            style=\"display:none;\">\n",
              "\n",
              "  <svg xmlns=\"http://www.w3.org/2000/svg\" height=\"24px\" viewBox=\"0 -960 960 960\">\n",
              "    <path d=\"M120-120v-720h720v720H120Zm60-500h600v-160H180v160Zm220 220h160v-160H400v160Zm0 220h160v-160H400v160ZM180-400h160v-160H180v160Zm440 0h160v-160H620v160ZM180-180h160v-160H180v160Zm440 0h160v-160H620v160Z\"/>\n",
              "  </svg>\n",
              "    </button>\n",
              "\n",
              "  <style>\n",
              "    .colab-df-container {\n",
              "      display:flex;\n",
              "      gap: 12px;\n",
              "    }\n",
              "\n",
              "    .colab-df-convert {\n",
              "      background-color: #E8F0FE;\n",
              "      border: none;\n",
              "      border-radius: 50%;\n",
              "      cursor: pointer;\n",
              "      display: none;\n",
              "      fill: #1967D2;\n",
              "      height: 32px;\n",
              "      padding: 0 0 0 0;\n",
              "      width: 32px;\n",
              "    }\n",
              "\n",
              "    .colab-df-convert:hover {\n",
              "      background-color: #E2EBFA;\n",
              "      box-shadow: 0px 1px 2px rgba(60, 64, 67, 0.3), 0px 1px 3px 1px rgba(60, 64, 67, 0.15);\n",
              "      fill: #174EA6;\n",
              "    }\n",
              "\n",
              "    .colab-df-buttons div {\n",
              "      margin-bottom: 4px;\n",
              "    }\n",
              "\n",
              "    [theme=dark] .colab-df-convert {\n",
              "      background-color: #3B4455;\n",
              "      fill: #D2E3FC;\n",
              "    }\n",
              "\n",
              "    [theme=dark] .colab-df-convert:hover {\n",
              "      background-color: #434B5C;\n",
              "      box-shadow: 0px 1px 3px 1px rgba(0, 0, 0, 0.15);\n",
              "      filter: drop-shadow(0px 1px 2px rgba(0, 0, 0, 0.3));\n",
              "      fill: #FFFFFF;\n",
              "    }\n",
              "  </style>\n",
              "\n",
              "    <script>\n",
              "      const buttonEl =\n",
              "        document.querySelector('#df-0c71ba7f-a4db-4b6e-9244-5d102d7fa47f button.colab-df-convert');\n",
              "      buttonEl.style.display =\n",
              "        google.colab.kernel.accessAllowed ? 'block' : 'none';\n",
              "\n",
              "      async function convertToInteractive(key) {\n",
              "        const element = document.querySelector('#df-0c71ba7f-a4db-4b6e-9244-5d102d7fa47f');\n",
              "        const dataTable =\n",
              "          await google.colab.kernel.invokeFunction('convertToInteractive',\n",
              "                                                    [key], {});\n",
              "        if (!dataTable) return;\n",
              "\n",
              "        const docLinkHtml = 'Like what you see? Visit the ' +\n",
              "          '<a target=\"_blank\" href=https://colab.research.google.com/notebooks/data_table.ipynb>data table notebook</a>'\n",
              "          + ' to learn more about interactive tables.';\n",
              "        element.innerHTML = '';\n",
              "        dataTable['output_type'] = 'display_data';\n",
              "        await google.colab.output.renderOutput(dataTable, element);\n",
              "        const docLink = document.createElement('div');\n",
              "        docLink.innerHTML = docLinkHtml;\n",
              "        element.appendChild(docLink);\n",
              "      }\n",
              "    </script>\n",
              "  </div>\n",
              "\n",
              "\n",
              "<div id=\"df-705a30ba-8f6a-4f49-8475-ed4ffa796090\">\n",
              "  <button class=\"colab-df-quickchart\" onclick=\"quickchart('df-705a30ba-8f6a-4f49-8475-ed4ffa796090')\"\n",
              "            title=\"Suggest charts\"\n",
              "            style=\"display:none;\">\n",
              "\n",
              "<svg xmlns=\"http://www.w3.org/2000/svg\" height=\"24px\"viewBox=\"0 0 24 24\"\n",
              "     width=\"24px\">\n",
              "    <g>\n",
              "        <path d=\"M19 3H5c-1.1 0-2 .9-2 2v14c0 1.1.9 2 2 2h14c1.1 0 2-.9 2-2V5c0-1.1-.9-2-2-2zM9 17H7v-7h2v7zm4 0h-2V7h2v10zm4 0h-2v-4h2v4z\"/>\n",
              "    </g>\n",
              "</svg>\n",
              "  </button>\n",
              "\n",
              "<style>\n",
              "  .colab-df-quickchart {\n",
              "      --bg-color: #E8F0FE;\n",
              "      --fill-color: #1967D2;\n",
              "      --hover-bg-color: #E2EBFA;\n",
              "      --hover-fill-color: #174EA6;\n",
              "      --disabled-fill-color: #AAA;\n",
              "      --disabled-bg-color: #DDD;\n",
              "  }\n",
              "\n",
              "  [theme=dark] .colab-df-quickchart {\n",
              "      --bg-color: #3B4455;\n",
              "      --fill-color: #D2E3FC;\n",
              "      --hover-bg-color: #434B5C;\n",
              "      --hover-fill-color: #FFFFFF;\n",
              "      --disabled-bg-color: #3B4455;\n",
              "      --disabled-fill-color: #666;\n",
              "  }\n",
              "\n",
              "  .colab-df-quickchart {\n",
              "    background-color: var(--bg-color);\n",
              "    border: none;\n",
              "    border-radius: 50%;\n",
              "    cursor: pointer;\n",
              "    display: none;\n",
              "    fill: var(--fill-color);\n",
              "    height: 32px;\n",
              "    padding: 0;\n",
              "    width: 32px;\n",
              "  }\n",
              "\n",
              "  .colab-df-quickchart:hover {\n",
              "    background-color: var(--hover-bg-color);\n",
              "    box-shadow: 0 1px 2px rgba(60, 64, 67, 0.3), 0 1px 3px 1px rgba(60, 64, 67, 0.15);\n",
              "    fill: var(--button-hover-fill-color);\n",
              "  }\n",
              "\n",
              "  .colab-df-quickchart-complete:disabled,\n",
              "  .colab-df-quickchart-complete:disabled:hover {\n",
              "    background-color: var(--disabled-bg-color);\n",
              "    fill: var(--disabled-fill-color);\n",
              "    box-shadow: none;\n",
              "  }\n",
              "\n",
              "  .colab-df-spinner {\n",
              "    border: 2px solid var(--fill-color);\n",
              "    border-color: transparent;\n",
              "    border-bottom-color: var(--fill-color);\n",
              "    animation:\n",
              "      spin 1s steps(1) infinite;\n",
              "  }\n",
              "\n",
              "  @keyframes spin {\n",
              "    0% {\n",
              "      border-color: transparent;\n",
              "      border-bottom-color: var(--fill-color);\n",
              "      border-left-color: var(--fill-color);\n",
              "    }\n",
              "    20% {\n",
              "      border-color: transparent;\n",
              "      border-left-color: var(--fill-color);\n",
              "      border-top-color: var(--fill-color);\n",
              "    }\n",
              "    30% {\n",
              "      border-color: transparent;\n",
              "      border-left-color: var(--fill-color);\n",
              "      border-top-color: var(--fill-color);\n",
              "      border-right-color: var(--fill-color);\n",
              "    }\n",
              "    40% {\n",
              "      border-color: transparent;\n",
              "      border-right-color: var(--fill-color);\n",
              "      border-top-color: var(--fill-color);\n",
              "    }\n",
              "    60% {\n",
              "      border-color: transparent;\n",
              "      border-right-color: var(--fill-color);\n",
              "    }\n",
              "    80% {\n",
              "      border-color: transparent;\n",
              "      border-right-color: var(--fill-color);\n",
              "      border-bottom-color: var(--fill-color);\n",
              "    }\n",
              "    90% {\n",
              "      border-color: transparent;\n",
              "      border-bottom-color: var(--fill-color);\n",
              "    }\n",
              "  }\n",
              "</style>\n",
              "\n",
              "  <script>\n",
              "    async function quickchart(key) {\n",
              "      const quickchartButtonEl =\n",
              "        document.querySelector('#' + key + ' button');\n",
              "      quickchartButtonEl.disabled = true;  // To prevent multiple clicks.\n",
              "      quickchartButtonEl.classList.add('colab-df-spinner');\n",
              "      try {\n",
              "        const charts = await google.colab.kernel.invokeFunction(\n",
              "            'suggestCharts', [key], {});\n",
              "      } catch (error) {\n",
              "        console.error('Error during call to suggestCharts:', error);\n",
              "      }\n",
              "      quickchartButtonEl.classList.remove('colab-df-spinner');\n",
              "      quickchartButtonEl.classList.add('colab-df-quickchart-complete');\n",
              "    }\n",
              "    (() => {\n",
              "      let quickchartButtonEl =\n",
              "        document.querySelector('#df-705a30ba-8f6a-4f49-8475-ed4ffa796090 button');\n",
              "      quickchartButtonEl.style.display =\n",
              "        google.colab.kernel.accessAllowed ? 'block' : 'none';\n",
              "    })();\n",
              "  </script>\n",
              "</div>\n",
              "\n",
              "    </div>\n",
              "  </div>\n"
            ],
            "application/vnd.google.colaboratory.intrinsic+json": {
              "type": "dataframe",
              "variable_name": "df",
              "summary": "{\n  \"name\": \"df\",\n  \"rows\": 10000,\n  \"fields\": [\n    {\n      \"column\": \"Gender\",\n      \"properties\": {\n        \"dtype\": \"category\",\n        \"num_unique_values\": 2,\n        \"samples\": [\n          \"Female\",\n          \"Male\"\n        ],\n        \"semantic_type\": \"\",\n        \"description\": \"\"\n      }\n    },\n    {\n      \"column\": \"Height\",\n      \"properties\": {\n        \"dtype\": \"number\",\n        \"std\": 3.848151150140477,\n        \"min\": 54.3,\n        \"max\": 79.0,\n        \"num_unique_values\": 225,\n        \"samples\": [\n          71.2,\n          56.2\n        ],\n        \"semantic_type\": \"\",\n        \"description\": \"\"\n      }\n    },\n    {\n      \"column\": \"Weight\",\n      \"properties\": {\n        \"dtype\": \"number\",\n        \"std\": 32.108270241320845,\n        \"min\": 64.7,\n        \"max\": 270.0,\n        \"num_unique_values\": 1427,\n        \"samples\": [\n          151.0,\n          146.8\n        ],\n        \"semantic_type\": \"\",\n        \"description\": \"\"\n      }\n    },\n    {\n      \"column\": \"Hat_Colour\",\n      \"properties\": {\n        \"dtype\": \"category\",\n        \"num_unique_values\": 2,\n        \"samples\": [\n          \"Blue\",\n          \"Red\"\n        ],\n        \"semantic_type\": \"\",\n        \"description\": \"\"\n      }\n    }\n  ]\n}"
            }
          },
          "metadata": {},
          "execution_count": 15
        }
      ]
    },
    {
      "cell_type": "code",
      "source": [
        "#Plot the Distribution of Heights\n",
        "\n",
        "plt.figure(figsize=(16,6))\n",
        "\n",
        "mu_Ht = df['Height'].mean()\n",
        "\n",
        "plt.title(\"Distribution of Heights\")\n",
        "sns.kdeplot(data=df, x='Height', color=\"lightgray\")\n",
        "plt.axvline(mu_Ht, color=\"blue\", linewidth=3, linestyle='dashed', gapcolor=\"white\")\n",
        "plt.figtext(0.49, 0.075, f\"{mu_Ht : .1f}\", color=\"blue\", fontsize=13)\n",
        "plt.figtext(0.45, -0.08, f\"mu_Ht = {mu_Ht : .1f} inches\", color=\"black\", fontsize=13)\n",
        "plt.show()"
      ],
      "metadata": {
        "id": "aYcc1aPPKwGa",
        "colab": {
          "base_uri": "https://localhost:8080/",
          "height": 321
        },
        "outputId": "166fc999-75d3-48f7-ff14-af047ee21095"
      },
      "execution_count": null,
      "outputs": [
        {
          "output_type": "display_data",
          "data": {
            "text/plain": [
              "<Figure size 1600x600 with 1 Axes>"
            ],
            "image/png": "[encoded data removed]"
          },
          "metadata": {}
        }
      ]
    },
    {
      "cell_type": "markdown",
      "source": [
        "##Splitting population heights by Gender"
      ],
      "metadata": {
        "id": "4ZZ94ufuiKIS"
      }
    },
    {
      "cell_type": "code",
      "source": [
        "#Plot the Distributions of Male Heights and Female Heights\n",
        "\n",
        "plt.figure(figsize=(16,6))\n",
        "\n",
        "male_height_mu = df[df[\"Gender\"]==\"Male\"][\"Height\"].mean()\n",
        "female_height_mu = df[df[\"Gender\"]==\"Female\"][\"Height\"].mean()\n",
        "\n",
        "plt.title(\"Distribution of Male Heights and Female Heights\")\n",
        "\n",
        "sns.kdeplot(data=df, x='Height', hue=\"Gender\", palette={'Male':\"purple\", 'Female':\"darkgreen\"})\n",
        "\n",
        "plt.axvline(male_height_mu, color=\"purple\")\n",
        "plt.axvline(female_height_mu, color=\"darkgreen\")\n",
        "\n",
        "plt.figtext(0.46, -0.08, f\"mu_Male_Ht = {male_height_mu : .1f} inches\", color=\"purple\", fontsize=13)\n",
        "plt.figtext(0.45, -0.12, f\"mu_Female_Ht = {female_height_mu : .1f} inches\", color=\"darkgreen\", fontsize=13)\n",
        "\n",
        "plt.show()"
      ],
      "metadata": {
        "id": "olcyASBqKwbE",
        "colab": {
          "base_uri": "https://localhost:8080/",
          "height": 332
        },
        "outputId": "d1abed2f-ee27-45a2-a40d-3d557599bd4e"
      },
      "execution_count": null,
      "outputs": [
        {
          "output_type": "display_data",
          "data": {
            "text/plain": [
              "<Figure size 1600x600 with 1 Axes>"
            ],
            "image/png": "[encoded data removed]"
          },
          "metadata": {}
        }
      ]
    },
    {
      "cell_type": "markdown",
      "source": [
        "##Splitting population heights by hat_colour"
      ],
      "metadata": {
        "id": "IWlxD6k8iEa7"
      }
    },
    {
      "cell_type": "code",
      "source": [
        "#Plot the Distributions of Red_Hat Heights and Blue_Hat Heights\n",
        "\n",
        "plt.figure(figsize=(16,4))\n",
        "\n",
        "RedHat_height_mu = df[df[\"Hat_Colour\"]==\"Red\"][\"Height\"].mean()\n",
        "BlueHat_height_mu = df[df[\"Hat_Colour\"]==\"Blue\"][\"Height\"].mean()\n",
        "\n",
        "plt.title(\"Distribution of Red_Hat Heights and Blue_Hat Heights\")\n",
        "\n",
        "sns.kdeplot(data=df, x='Height', hue=\"Hat_Colour\", palette={'Red':\"red\", 'Blue':\"blue\"})\n",
        "\n",
        "plt.axvline(RedHat_height_mu, color=\"red\")\n",
        "plt.axvline(BlueHat_height_mu, color=\"blue\")\n",
        "\n",
        "plt.figtext(0.45, -0.08, f\"mu_RedHat = {RedHat_height_mu : .1f} inches\", color=\"red\", fontsize=13)\n",
        "plt.figtext(0.45, -0.12, f\"mu_BlueHat = {BlueHat_height_mu : .1f} inches\", color=\"blue\", fontsize=13)\n",
        "\n",
        "plt.show()"
      ],
      "metadata": {
        "id": "SXeYlN8ZKwgZ",
        "colab": {
          "base_uri": "https://localhost:8080/",
          "height": 235
        },
        "outputId": "7bab5a19-5f03-4282-9485-7dcaa115d7b3"
      },
      "execution_count": null,
      "outputs": [
        {
          "output_type": "display_data",
          "data": {
            "text/plain": [
              "<Figure size 1600x400 with 1 Axes>"
            ],
            "image/png": "[encoded data removed]"
          },
          "metadata": {}
        }
      ]
    },
    {
      "cell_type": "markdown",
      "source": [
        "#Samples of Height measurements from the Population"
      ],
      "metadata": {
        "id": "x1gdX3Dn1Qrm"
      }
    },
    {
      "cell_type": "code",
      "source": [
        "print(f\"{'type of sample' : ^25} | {'sample mean' : ^15} | {'sample size' : ^15}\")\n",
        "print(\"-\"*75)\n",
        "\n",
        "#Sample of Male and Female Heights\n",
        "sample_male = df[df[\"Gender\"]==\"Male\"][\"Height\"].sample(10, random_state=12574)\n",
        "sample_female = df[df[\"Gender\"]==\"Female\"][\"Height\"].sample(13, random_state=33721)\n",
        "\n",
        "\n",
        "print(\"\\n\\n\")\n",
        "print(\"-\"*75)\n",
        "print(f\"{'sample_male_Ht' : ^25} | {sample_male.mean() : ^15.1f} | {len(sample_male) : ^15d}\")\n",
        "print(\"-\"*75)\n",
        "print(f\"{'sample_female_Ht' : ^25} | {sample_female.mean() : ^15.1f} | {len(sample_female) : ^15d}\")\n",
        "print(\"-\"*75)\n",
        "\n",
        "\n",
        "#Sample of Red_Hat and Blue_Hat Heights\n",
        "sample_RedHat = df[df[\"Hat_Colour\"]==\"Red\"][\"Height\"].sample(11, random_state=85421)\n",
        "sample_BlueHat = df[df[\"Hat_Colour\"]==\"Blue\"][\"Height\"].sample(13, random_state=47409)\n",
        "\n",
        "print(\"\\n\\n\")\n",
        "print(\"-\"*75)\n",
        "print(f\"{'sample_RedHat_Ht' : ^25} | {sample_RedHat.mean() : ^15.1f} | {len(sample_RedHat) : ^15d}\")\n",
        "print(\"-\"*75)\n",
        "print(f\"{'sample_BlueHat_Ht' : ^25} | {sample_BlueHat.mean() : ^15.1f} | {len(sample_BlueHat) : ^15d}\")\n",
        "print(\"-\"*75)"
      ],
      "metadata": {
        "id": "Ar4gliM01Tdu",
        "colab": {
          "base_uri": "https://localhost:8080/"
        },
        "outputId": "0ea03bdb-0b9c-46ba-dad9-0a63af644277"
      },
      "execution_count": null,
      "outputs": [
        {
          "output_type": "stream",
          "name": "stdout",
          "text": [
            "     type of sample       |   sample mean   |   sample size  \n",
            "---------------------------------------------------------------------------\n",
            "\n",
            "\n",
            "\n",
            "---------------------------------------------------------------------------\n",
            "     sample_male_Ht       |      68.7       |       10       \n",
            "---------------------------------------------------------------------------\n",
            "    sample_female_Ht      |      63.5       |       13       \n",
            "---------------------------------------------------------------------------\n",
            "\n",
            "\n",
            "\n",
            "---------------------------------------------------------------------------\n",
            "    sample_RedHat_Ht      |      65.1       |       11       \n",
            "---------------------------------------------------------------------------\n",
            "    sample_BlueHat_Ht     |      64.8       |       13       \n",
            "---------------------------------------------------------------------------\n"
          ]
        }
      ]
    },
    {
      "cell_type": "markdown",
      "source": [
        "#Two-Sample T_Test in Python"
      ],
      "metadata": {
        "id": "_neXYfEzG1Tv"
      }
    },
    {
      "cell_type": "code",
      "source": [
        "\"\"\"\n",
        "  #T_test for two \"Independent Samples\"\n",
        "\n",
        "  From scipy.stats, use the ttest_ind() function\n",
        "  Ho: mu_1 = mu_2 (population means - from which samples are drawn - are similar)\n",
        "  Ha:\n",
        "      (a) mu_1 != mu_2 (if alternative = 'two-sided')\n",
        "      (b) mu_1 < mu_2 (if alternative = 'less')\n",
        "      (c) mu_1 > mu_2 (if alternative = 'greater')\n",
        "\n",
        "  Inputs to the function:\n",
        "    ttest_ind(a = sample_1, b = sample_2, alternative = 'less' / 'greater' / 'two-sided')\n",
        "\n",
        "        Note:\n",
        "          -> In the inputs, pass the full sample of data points as a list or array, not just the sample mean\n",
        "          -> Default value of alternative = 'two-sided'\n",
        "\n",
        "  Output of the function:\n",
        "    A tuple containing (t_stat, p_value, degrees_of_freedom)\n",
        "\"\"\"\n",
        "\n",
        "from scipy import stats\n",
        "#stats.ttest_ind(a = sample_1, b = sample_2, alternative = 'greater' / 'less' / 'two-sided')"
      ],
      "metadata": {
        "id": "xnHUPMP8HY71"
      },
      "execution_count": null,
      "outputs": []
    },
    {
      "cell_type": "code",
      "source": [
        "#male heights vs female heights\n",
        "\n",
        "#Ho: mu_male = mu_female\n",
        "#Ho: mu_male != mu_female (\"two-sided\")\n",
        "\n",
        "from scipy import stats\n",
        "\n",
        "stats.ttest_ind(a= sample_male, b= sample_female, alternative=\"two-sided\")\n",
        "\n",
        "#p-val = 0.03%\n",
        "#alpha = 5%\n",
        "\n",
        "#Decision: Reject Ho;\n",
        "#there is a statistically significant difference in mu_male and mu_female"
      ],
      "metadata": {
        "colab": {
          "base_uri": "https://localhost:8080/"
        },
        "id": "sRggEssVHZDo",
        "outputId": "7274f2e9-fea1-43a1-b82e-0980f7c58b9b"
      },
      "execution_count": null,
      "outputs": [
        {
          "output_type": "execute_result",
          "data": {
            "text/plain": [
              "TtestResult(statistic=np.float64(4.271752224148016), pvalue=np.float64(0.0003392538115518004), df=np.float64(21.0))"
            ]
          },
          "metadata": {},
          "execution_count": 17
        }
      ]
    },
    {
      "cell_type": "code",
      "source": [
        "#male heights vs female heights\n",
        "\n",
        "#Ho: mu_male >= mu_female\n",
        "#Ha: mu_male < mu_female (\"less\")\n",
        "\n",
        "from scipy import stats\n",
        "\n",
        "stats.ttest_ind(a= sample_male, b= sample_female, alternative=\"less\")\n",
        "\n",
        "#p-val = 99.98%\n",
        "#alpha = 5%\n",
        "\n",
        "#Decision: Fail to Reject Ho;"
      ],
      "metadata": {
        "colab": {
          "base_uri": "https://localhost:8080/"
        },
        "id": "L-tNpuowIWK0",
        "outputId": "7d45320b-a9ed-43db-a8d0-e53e46a577e8"
      },
      "execution_count": null,
      "outputs": [
        {
          "output_type": "execute_result",
          "data": {
            "text/plain": [
              "TtestResult(statistic=np.float64(4.271752224148016), pvalue=np.float64(0.9998303730942241), df=np.float64(21.0))"
            ]
          },
          "metadata": {},
          "execution_count": 18
        }
      ]
    },
    {
      "cell_type": "code",
      "source": [
        "#male heights vs female heights\n",
        "\n",
        "#Ho: mu_male <= mu_female\n",
        "#Ha: mu_male > mu_female (\"greater\")\n",
        "\n",
        "from scipy import stats\n",
        "\n",
        "stats.ttest_ind(a= sample_male, b= sample_female, alternative=\"greater\")\n",
        "\n",
        "#p-val = 0.016%\n",
        "#alpha = 5%\n",
        "\n",
        "#Decision: Reject Ho;"
      ],
      "metadata": {
        "colab": {
          "base_uri": "https://localhost:8080/"
        },
        "id": "ZSDJmxhGI9nS",
        "outputId": "6145208b-c648-42b9-ade9-9d8e02e32702"
      },
      "execution_count": null,
      "outputs": [
        {
          "output_type": "execute_result",
          "data": {
            "text/plain": [
              "TtestResult(statistic=np.float64(4.271752224148016), pvalue=np.float64(0.0001696269057759002), df=np.float64(21.0))"
            ]
          },
          "metadata": {},
          "execution_count": 19
        }
      ]
    },
    {
      "cell_type": "code",
      "source": [],
      "metadata": {
        "id": "ZpZi09jUkBuu"
      },
      "execution_count": null,
      "outputs": []
    },
    {
      "cell_type": "markdown",
      "source": [
        "#---------------------   Part 2: \"Two Sample T Test (Related Samples)\"  --------------------------------------"
      ],
      "metadata": {
        "id": "fi0ByeDiHO1d"
      }
    },
    {
      "cell_type": "markdown",
      "source": [
        "#Two sample Relative t_test:\n",
        "\n",
        "> Two samples with before-after pairs of values\n",
        "\n"
      ],
      "metadata": {
        "id": "AsQhwymJK1Bo"
      }
    },
    {
      "cell_type": "code",
      "source": [
        "\"\"\"\n",
        "Twelve cars were equipped with radial tyres,\n",
        "and driven over a test course. Mileage was recorded.\n",
        "\n",
        "Then the same 12 cars, (with the same drivers),\n",
        "were equipped with regular belted tyres\n",
        "and driven over the same test course.\n",
        "\n",
        "After each run, the mileage (in km/l) was measured.\n",
        "Is there evidence that radial tyres offer better mileage?\n",
        "\n",
        "assume alpha = 0.05\n",
        "\"\"\"\n",
        "\n",
        "#first iteration\n",
        "mileages_radial = [4.2,4.7,6.6,7.0,6.7,4.5,5.7,6.0,7.4,4.9,6.1,5.2]\n",
        "\n",
        "\n",
        "#second iteration\n",
        "mileages_belted = [4.1,4.9,6.2,6.9,6.8,4.4,5.7,5.8,6.9,4.7,6.0,4.9]\n",
        "\n",
        "#Ho: mu_R = mu_B\n",
        "#Ha: mu_R > mu_B (\"greater\")\n",
        "\n",
        "#ttest_rel()\n",
        "#RELATIVE ttest\n",
        "\n",
        "stats.ttest_rel(a=mileages_radial, b =mileages_belted, alternative=\"greater\")\n"
      ],
      "metadata": {
        "id": "e3fzFNu8K2xV",
        "colab": {
          "base_uri": "https://localhost:8080/"
        },
        "outputId": "c3da167e-226a-4e39-9281-3e55d16ed350"
      },
      "execution_count": null,
      "outputs": [
        {
          "output_type": "execute_result",
          "data": {
            "text/plain": [
              "TtestResult(statistic=np.float64(2.484515150684451), pvalue=np.float64(0.015164752831992123), df=np.int64(11))"
            ]
          },
          "metadata": {},
          "execution_count": 26
        }
      ]
    },
    {
      "cell_type": "code",
      "source": [],
      "metadata": {
        "id": "266xXR8fjP-2"
      },
      "execution_count": null,
      "outputs": []
    },
    {
      "cell_type": "markdown",
      "source": [
        "#Extra quizzes"
      ],
      "metadata": {
        "id": "iQYxDlSXjzyy"
      }
    },
    {
      "cell_type": "markdown",
      "source": [
        "##Comparing Fertilizers"
      ],
      "metadata": {
        "id": "2zBB0u-2k6aE"
      }
    },
    {
      "cell_type": "code",
      "source": [
        "\"\"\"\n",
        "Determine whether there is a statistically significant difference in\n",
        "the average heights of plants grown with fertilizer X and fertilizer Y.\n",
        "\n",
        "Group A (Fertilizer X):\n",
        "Heights = [162, 164, 168, 170, 174, 176, 180, 182, 186, 188, 192, 194, 198, 200, 204, 206, 210, 212, 216, 218, 222, 224, 228, 230, 234, 236, 240, 242, 246, 248, 252, 254, 258, 260, 264, 266, 270]\n",
        "\n",
        "Group B (Fertilizer Y):\n",
        "Heights = [158, 162, 166, 170, 174, 178, 182, 186, 190, 194, 198, 202, 206, 210, 214, 218, 222, 226, 230, 234, 238, 242, 246, 250, 254, 258, 262, 266, 270, 274, 278, 282, 286, 290, 294, 298, 302]\n",
        "\n",
        "\n",
        "Significance Level (α): 0.1\n",
        "\n",
        "\"\"\"\n",
        "\n",
        "sample_group_A = [162, 164, 168, 170, 174, 176, 180, 182, 186, 188, 192, 194, 198, 200, 204, 206, 210, 212, 216, 218, 222, 224, 228, 230, 234, 236, 240, 242, 246, 248, 252, 254, 258, 260, 264, 266, 270]\n",
        "\n",
        "sample_group_B = [158, 162, 166, 170, 174, 178, 182, 186, 190, 194, 198, 202, 206, 210, 214, 218, 222, 226, 230, 234, 238, 242, 246, 250, 254, 258, 262, 266, 270, 274, 278, 282, 286, 290, 294, 298, 302]\n",
        "\n",
        "\n",
        "#Ho: mu_X = mu_Y\n",
        "#Ha: mu_X !=  mu_Y (\"two-sided\")\n",
        "\n",
        "stats.ttest_ind(a= sample_group_A, b=sample_group_B, alternative=\"two-sided\" )\n",
        "\n",
        "#p-val = 10.78%\n",
        "#alpha = 10%\n",
        "\n",
        "#Decision: Fail to reject Ho"
      ],
      "metadata": {
        "id": "PtN8hIsmJE5_",
        "colab": {
          "base_uri": "https://localhost:8080/"
        },
        "outputId": "ad27c6d5-8484-4334-e3c3-b038d49f1602"
      },
      "execution_count": null,
      "outputs": [
        {
          "output_type": "execute_result",
          "data": {
            "text/plain": [
              "TtestResult(statistic=np.float64(-1.6280691715301856), pvalue=np.float64(0.10787862863608348), df=np.float64(72.0))"
            ]
          },
          "metadata": {},
          "execution_count": 21
        }
      ]
    },
    {
      "cell_type": "markdown",
      "source": [
        "##Girls vs Boys in the exam"
      ],
      "metadata": {
        "id": "HmLVDFNtk0QD"
      }
    },
    {
      "cell_type": "code",
      "source": [
        "\n",
        "\n",
        "\"\"\"\n",
        "In a school exam, the marks scored by boys and girls are recorded.\n",
        "All marks are out of 100.\n",
        "\n",
        "boys = [95, 78, 68, 95, 98, 79, 98, 86, 78, 89, 89, 94]\n",
        "girls = [100, 100, 95, 90, 95, 98, 100, 100]\n",
        "\n",
        "Perform 2 sample T-test to check the claim that\n",
        "girls outperform boys, in this school test.\n",
        "\n",
        "Assume significance level to be 5%.\n",
        "\"\"\"\n",
        "\n",
        "#Ho: mu_G <= mu_B\n",
        "#Ha: mu_G > mu_B (\"greater\")\n",
        "\n",
        "boys = [95, 78, 68, 95, 98, 79, 98, 86, 78, 89, 89, 94]\n",
        "girls = [100, 100, 95, 90, 95, 98, 100, 100]\n",
        "\n",
        "stats.ttest_ind(a=girls, b=boys, alternative=\"greater\")\n"
      ],
      "metadata": {
        "id": "chMGHd_mKW_P",
        "colab": {
          "base_uri": "https://localhost:8080/"
        },
        "outputId": "0fb63e66-4fc8-4cea-8dbc-f6643ed52a51"
      },
      "execution_count": null,
      "outputs": [
        {
          "output_type": "execute_result",
          "data": {
            "text/plain": [
              "TtestResult(statistic=np.float64(2.7927752811778026), pvalue=np.float64(0.006010671109332002), df=np.float64(18.0))"
            ]
          },
          "metadata": {},
          "execution_count": 22
        }
      ]
    },
    {
      "cell_type": "markdown",
      "source": [
        "##Pill that increases IQ scores"
      ],
      "metadata": {
        "id": "UTULeePdNLtc"
      }
    },
    {
      "cell_type": "code",
      "source": [
        "\n",
        "\n",
        "\"\"\"\n",
        "A pharma company claims to have invented a vitamin supplement pill\n",
        "that increases the IQ of adolescents.\n",
        "\n",
        "They randomly recruited volunteer 14-year-old teens\n",
        "from across India for an experimental study.\n",
        "The teens were given the pills for a period of 12 months.\n",
        "\n",
        "Then, when the volunteers turned 15, their IQ scores were tested\n",
        "\n",
        "samp_iq_scores = [110, 105, 98, 102, 99, 104, 115, 95]\n",
        "\n",
        "A research paper on the Indian Statistical Institute website shows that\n",
        "the average IQ scores for 15-year-old Indian teens is 101\n",
        "\n",
        "Are the results by the Pharma company statistically significant w.r.t. their claim?\n",
        "\"\"\"\n",
        "\n",
        "\n",
        "#Ho: mu = 101\n",
        "#Ha: mu > 101 (\"greater\")\n",
        "\n",
        "samp_iq_scores = [110, 105, 98, 102, 99, 104, 115, 95]\n",
        "\n",
        "stats.ttest_1samp(a=samp_iq_scores, popmean=101, alternative=\"greater\")"
      ],
      "metadata": {
        "id": "f97l6rWcBhE6",
        "colab": {
          "base_uri": "https://localhost:8080/"
        },
        "outputId": "3bd079ae-8d36-414a-94ad-e2dc4060d905"
      },
      "execution_count": null,
      "outputs": [
        {
          "output_type": "execute_result",
          "data": {
            "text/plain": [
              "TtestResult(statistic=np.float64(1.0765409408615139), pvalue=np.float64(0.1586912200009167), df=np.int64(7))"
            ]
          },
          "metadata": {},
          "execution_count": 27
        }
      ]
    },
    {
      "cell_type": "markdown",
      "source": [
        "##Comparing Drug Recovery Times (in days)"
      ],
      "metadata": {
        "id": "wHSqNv9ENEu0"
      }
    },
    {
      "cell_type": "code",
      "source": [
        "#Drug_1 vs Drug_2 Recovery times (in days)\n",
        "\n",
        "!gdown 1juup-F609RSFKvZDR_H8XqXD0uPpO47M\n",
        "drug_1_recovery_times = pd.read_csv('drug_1_recovery.csv')['drug_1']\n",
        "\n",
        "\n",
        "!gdown 1hbk6hYY2rJEQOqkNEifcKirrPRh4AnTB\n",
        "drug_2_recovery_times = pd.read_csv('drug_2_recovery.csv')['drug_2']\n",
        "\n",
        "print(\"\\n\\n\\n Success: both datasets loaded successfully into dataframes: \\n -> drug_1_recovery_times, and \\n -> drug_2_recovery_times\")"
      ],
      "metadata": {
        "colab": {
          "base_uri": "https://localhost:8080/"
        },
        "id": "DUKihfB2JLHB",
        "outputId": "e812b475-ef0b-470b-bf72-4c3297a14aa1"
      },
      "execution_count": null,
      "outputs": [
        {
          "output_type": "stream",
          "name": "stdout",
          "text": [
            "Downloading...\n",
            "From: https://drive.google.com/uc?id=1juup-F609RSFKvZDR_H8XqXD0uPpO47M\n",
            "To: /content/drug_1_recovery.csv\n",
            "100% 306/306 [00:00<00:00, 908kB/s]\n",
            "Downloading...\n",
            "From: https://drive.google.com/uc?id=1hbk6hYY2rJEQOqkNEifcKirrPRh4AnTB\n",
            "To: /content/drug_2_recovery.csv\n",
            "100% 379/379 [00:00<00:00, 1.55MB/s]\n",
            "\n",
            "\n",
            "\n",
            " Success: both datasets loaded successfully into dataframes: \n",
            " -> drug_1_recovery_times, and \n",
            " -> drug_2_recovery_times\n"
          ]
        }
      ]
    },
    {
      "cell_type": "code",
      "source": [
        "print(f\"shape of drug_1_recovery_times= {drug_1_recovery_times.shape}\\n\\n\")\n",
        "print(f\"mean recovery time for drug_1 = {drug_1_recovery_times.mean() : .1f} days\\n\\n\\nFirst few rows:\\n\")\n",
        "\n",
        "drug_1_recovery_times.head()"
      ],
      "metadata": {
        "colab": {
          "base_uri": "https://localhost:8080/",
          "height": 380
        },
        "id": "odos1ro4JxUX",
        "outputId": "d5746666-e379-4288-909f-117046a3d32f"
      },
      "execution_count": null,
      "outputs": [
        {
          "output_type": "stream",
          "name": "stdout",
          "text": [
            "shape of drug_1_recovery_times= (100,)\n",
            "\n",
            "\n",
            "mean recovery time for drug_1 =  6.6 days\n",
            "\n",
            "\n",
            "First few rows:\n",
            "\n"
          ]
        },
        {
          "output_type": "execute_result",
          "data": {
            "text/plain": [
              "0    8\n",
              "1    7\n",
              "2    7\n",
              "3    7\n",
              "4    6\n",
              "Name: drug_1, dtype: int64"
            ],
            "text/html": [
              "<div>\n",
              "<style scoped>\n",
              "    .dataframe tbody tr th:only-of-type {\n",
              "        vertical-align: middle;\n",
              "    }\n",
              "\n",
              "    .dataframe tbody tr th {\n",
              "        vertical-align: top;\n",
              "    }\n",
              "\n",
              "    .dataframe thead th {\n",
              "        text-align: right;\n",
              "    }\n",
              "</style>\n",
              "<table border=\"1\" class=\"dataframe\">\n",
              "  <thead>\n",
              "    <tr style=\"text-align: right;\">\n",
              "      <th></th>\n",
              "      <th>drug_1</th>\n",
              "    </tr>\n",
              "  </thead>\n",
              "  <tbody>\n",
              "    <tr>\n",
              "      <th>0</th>\n",
              "      <td>8</td>\n",
              "    </tr>\n",
              "    <tr>\n",
              "      <th>1</th>\n",
              "      <td>7</td>\n",
              "    </tr>\n",
              "    <tr>\n",
              "      <th>2</th>\n",
              "      <td>7</td>\n",
              "    </tr>\n",
              "    <tr>\n",
              "      <th>3</th>\n",
              "      <td>7</td>\n",
              "    </tr>\n",
              "    <tr>\n",
              "      <th>4</th>\n",
              "      <td>6</td>\n",
              "    </tr>\n",
              "  </tbody>\n",
              "</table>\n",
              "</div><br><label><b>dtype:</b> int64</label>"
            ]
          },
          "metadata": {},
          "execution_count": 29
        }
      ]
    },
    {
      "cell_type": "code",
      "source": [
        "print(f\"shape of drug_2_recovery_times= {drug_2_recovery_times.shape}\\n\\n\")\n",
        "print(f\"mean recovery time for drug_2 = {drug_2_recovery_times.mean() : .1f} days\\n\\n\\nFirst few rows:\\n\")\n",
        "\n",
        "drug_2_recovery_times.head()"
      ],
      "metadata": {
        "colab": {
          "base_uri": "https://localhost:8080/",
          "height": 380
        },
        "id": "HgGgiYnBKM4Y",
        "outputId": "00960f3f-32a7-47a5-f801-bb789a2ca5ac"
      },
      "execution_count": null,
      "outputs": [
        {
          "output_type": "stream",
          "name": "stdout",
          "text": [
            "shape of drug_2_recovery_times= (120,)\n",
            "\n",
            "\n",
            "mean recovery time for drug_2 =  7.6 days\n",
            "\n",
            "\n",
            "First few rows:\n",
            "\n"
          ]
        },
        {
          "output_type": "execute_result",
          "data": {
            "text/plain": [
              "0    9\n",
              "1    7\n",
              "2    8\n",
              "3    7\n",
              "4    4\n",
              "Name: drug_2, dtype: int64"
            ],
            "text/html": [
              "<div>\n",
              "<style scoped>\n",
              "    .dataframe tbody tr th:only-of-type {\n",
              "        vertical-align: middle;\n",
              "    }\n",
              "\n",
              "    .dataframe tbody tr th {\n",
              "        vertical-align: top;\n",
              "    }\n",
              "\n",
              "    .dataframe thead th {\n",
              "        text-align: right;\n",
              "    }\n",
              "</style>\n",
              "<table border=\"1\" class=\"dataframe\">\n",
              "  <thead>\n",
              "    <tr style=\"text-align: right;\">\n",
              "      <th></th>\n",
              "      <th>drug_2</th>\n",
              "    </tr>\n",
              "  </thead>\n",
              "  <tbody>\n",
              "    <tr>\n",
              "      <th>0</th>\n",
              "      <td>9</td>\n",
              "    </tr>\n",
              "    <tr>\n",
              "      <th>1</th>\n",
              "      <td>7</td>\n",
              "    </tr>\n",
              "    <tr>\n",
              "      <th>2</th>\n",
              "      <td>8</td>\n",
              "    </tr>\n",
              "    <tr>\n",
              "      <th>3</th>\n",
              "      <td>7</td>\n",
              "    </tr>\n",
              "    <tr>\n",
              "      <th>4</th>\n",
              "      <td>4</td>\n",
              "    </tr>\n",
              "  </tbody>\n",
              "</table>\n",
              "</div><br><label><b>dtype:</b> int64</label>"
            ]
          },
          "metadata": {},
          "execution_count": 30
        }
      ]
    },
    {
      "cell_type": "code",
      "source": [
        "#Enter code here to find answer\n",
        "\n",
        "pass"
      ],
      "metadata": {
        "id": "b1N-9dQxYtl3"
      },
      "execution_count": null,
      "outputs": []
    }
  ]
}