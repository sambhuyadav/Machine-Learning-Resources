{
  "cells": [
    {
      "cell_type": "markdown",
      "metadata": {
        "id": "view-in-github",
        "colab_type": "text"
      },
      "source": [
        "<a href=\"https://colab.research.google.com/github/sambhuyadav/Machine-Learning-Resources/blob/main/Questions_on_Poisson_Distribution.ipynb\" target=\"_parent\"><img src=\"https://colab.research.google.com/assets/colab-badge.svg\" alt=\"Open In Colab\"/></a>"
      ]
    },
    {
      "cell_type": "code",
      "source": [
        "import numpy as np\n",
        "from scipy import stats\n"
      ],
      "metadata": {
        "id": "RHKVH0mQZlGI"
      },
      "execution_count": 2,
      "outputs": []
    },
    {
      "cell_type": "code",
      "source": [
        "#Scaler Q1\n",
        "\n",
        "\"\"\"\n",
        "It is known that a certain website\n",
        "makes 10 sales per hour.\n",
        "\n",
        "In a given hour,\n",
        "what is the probability that the site\n",
        "makes exactly 8 sales?\n",
        "\"\"\"\n",
        "\n",
        "#Time_scale : 1 hour\n",
        "\n",
        "#In this given time scale\n",
        "mu = 10\n",
        "\n",
        "#P(X == k)\n",
        "k = 8\n",
        "\n",
        "stats.poisson.pmf(k = 8, mu = 10)"
      ],
      "metadata": {
        "colab": {
          "base_uri": "https://localhost:8080/"
        },
        "id": "uSlAAoPdWHKk",
        "outputId": "a832f569-bb36-4d55-d59d-4ce3b199f35a"
      },
      "execution_count": 3,
      "outputs": [
        {
          "output_type": "execute_result",
          "data": {
            "text/plain": [
              "np.float64(0.11259903214902009)"
            ]
          },
          "metadata": {},
          "execution_count": 3
        }
      ]
    },
    {
      "cell_type": "code",
      "source": [
        "\"\"\"\n",
        "It is known that a certain website\n",
        "makes 10 sales per hour.\n",
        "\n",
        "In the next 3 hours,\n",
        "what is the probability that the site\n",
        "sells more than 25 items?\n",
        "\"\"\"\n",
        "\n",
        "#Time_scale = 1 hour * 3\n",
        "\n",
        "#In the 3x time scale\n",
        "mu = 10 * 3\n",
        "\n",
        "#P(X > 25) = 1 - P(X <= 25) = 1 - cdf(k=25, mu=30)\n",
        "\n",
        "1 - stats.poisson.cdf(k=25, mu=30)"
      ],
      "metadata": {
        "id": "AAMYX17eWlLz"
      },
      "execution_count": null,
      "outputs": []
    },
    {
      "cell_type": "code",
      "source": [
        "\"\"\"\n",
        "During the week, students enter a University Centre\n",
        "at an average rate of 20 per minute.\n",
        "\n",
        "What is the probability that in a randomly selected\n",
        "5-minute period, exactly 90 arrive?\n",
        "\"\"\"\n",
        "\n",
        "#Given data\n",
        "#time_scale = '1 min'\n",
        "rate_for_1min = 20\n",
        "\n",
        "#Desired time scale = '1 min' * 5 = '5 min'\n",
        "rate_for_5min = 20 * 5\n",
        "\n",
        "#P(X = 90)\n",
        "stats.poisson.pmf(k=90, mu=20*5)"
      ],
      "metadata": {
        "id": "w5qVFEuQZOaw"
      },
      "execution_count": null,
      "outputs": []
    },
    {
      "cell_type": "code",
      "source": [
        "stats.poisson.cdf(k=1,mu=4)"
      ],
      "metadata": {
        "colab": {
          "base_uri": "https://localhost:8080/"
        },
        "id": "yI7NG7ZjeeCW",
        "outputId": "089e5f1b-d4f5-4af0-8ae2-a87aacaa58db"
      },
      "execution_count": 13,
      "outputs": [
        {
          "output_type": "execute_result",
          "data": {
            "text/plain": [
              "np.float64(0.0915781944436709)"
            ]
          },
          "metadata": {},
          "execution_count": 13
        }
      ]
    },
    {
      "cell_type": "code",
      "source": [
        "stats.poisson.pmf(k=1,mu=2)"
      ],
      "metadata": {
        "colab": {
          "base_uri": "https://localhost:8080/"
        },
        "id": "JCPLCArOfsuz",
        "outputId": "1291fdb1-72ea-4f33-d8a4-778a496152b0"
      },
      "execution_count": 8,
      "outputs": [
        {
          "output_type": "execute_result",
          "data": {
            "text/plain": [
              "np.float64(0.2706705664732254)"
            ]
          },
          "metadata": {},
          "execution_count": 8
        }
      ]
    }
  ],
  "metadata": {
    "colab": {
      "toc_visible": true,
      "provenance": [],
      "include_colab_link": true
    },
    "kernelspec": {
      "display_name": "Python 3",
      "name": "python3"
    }
  },
  "nbformat": 4,
  "nbformat_minor": 0
}